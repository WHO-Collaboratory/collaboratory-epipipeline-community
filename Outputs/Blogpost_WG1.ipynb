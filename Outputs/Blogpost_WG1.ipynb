{
  "cells": [
    {
      "cell_type": "raw",
      "metadata": {},
      "source": [
        "---\n",
        "title: \"User-defined pipelines: tagging the landscape of outbreak analytic tasks\"\n",
        "authors: \n",
        "  - name: \"Carmen Tamayo\"\n",
        "    orcid: \"0000-0003-4184-2864\"\n",
        "  - name: \"Karim Mané\"\n",
        "  - name: \"Christian Althaus\"\n",
        "  - name: \"Finlay Campbell\"\n",
        "date: \"2023-10-20\"\n",
        "format:\n",
        "  html:\n",
        "    css: styles.css\n",
        "categories:\n",
        "  - outbreak analytics\n",
        "  - pipeline approach\n",
        "  - Epiverse-TRACE\n",
        "  - WHO Collaboratory\n",
        "---"
      ],
      "id": "5ebe24e5"
    },
    {
      "cell_type": "markdown",
      "metadata": {},
      "source": [
        "```{css, echo = FALSE}\n",
        ".justify {\n",
        "  text-align: justify !important\n",
        "}\n",
        "```\n",
        "\n",
        "::: {.justify}\n",
        "\n",
        "## Introduction\n",
        "<br>\n",
        "Outbreak response interventions rely on the comprehensive analysis and integration of diverse sources of data, which makes outbreak analytics an essential component of an epidemic preparedness plan (1). However, during most responses, outbreak analytic pipelines are either absent or fragmented, as they are usually developed reactively mid-outbreak (2). This results in inefficiencies in the analytical process, which ultimately hinder the timeliness and effectiveness of the response (3). Further, the increasing variety of data sources and complexity of the analytical methods used in epidemic response activities require innovative solutions and tools that enable the integration and interpretation of data by the users. Despite the good progress made by existing initiatives (4-6), there is still a pressing need for robust and reliable pipelines for epidemiologists and analyst to gain situational awareness and inform decision-making during an outbreak. These pipelines need to be developed by considering the needs of the users in the field, who are often required to make decisions in high-pressure situations, with important limitations, such as the time constraints for learning how to use new or complex tools, or the lack of literacy in programming languages, like R or Python. \n",
        "\n",
        "\n",
        "### The pipeline approach\n",
        "<br>\n",
        "This approach divides outbreak analytic tasks into smaller, more manageable modules, depending on the stage of the outbreak, i.e., early, middle, and late outbreak tasks (Figure 1). This modular approach also provides the flexibility to incorporate different methods and tools that are developed independently, which enhances the robustness of the analysis. Pipelines consist in a combination of tools and code to enable their interoperability, by standardising outputs format so that they can be used as inputs by the subsequent tool in the workflow. In this manner, users can provide their data as an input of the pipeline, and the desired result or estimate is generated as an output, streamlining the analytical process.\n"
      ],
      "id": "fe83fe78"
    }
  ],
  "metadata": {
    "kernelspec": {
      "display_name": "Python 3",
      "language": "python",
      "name": "python3"
    }
  },
  "nbformat": 4,
  "nbformat_minor": 5
}